{
  "cells": [
    {
      "cell_type": "markdown",
      "metadata": {
        "id": "ErTsJebj4uqD"
      },
      "source": [
        "# Stanza"
      ]
    },
    {
      "cell_type": "markdown",
      "metadata": {
        "id": "5NLFxZPP4GZr"
      },
      "source": [
        "Stanza is a collection of accurate and efficient tools for the linguistic analysis of many human languages including persian.\n",
        "Stanza use for tokenizing, multi words token expansian, part of speech, lemmatization, dependet parsing and name entity recognition. in below see how can use stanza for persian language."
      ]
    },
    {
      "cell_type": "code",
      "execution_count": null,
      "metadata": {
        "id": "Cv-kDK3BEEMn"
      },
      "outputs": [],
      "source": [
        "!pip install stanza"
      ]
    },
    {
      "cell_type": "code",
      "execution_count": 11,
      "metadata": {
        "colab": {
          "base_uri": "https://localhost:8080/",
          "height": 552,
          "referenced_widgets": [
            "0f01e55a416c44c1825e57087b207fe2",
            "623e5f90bdba4665b4d3defa774c135d",
            "84f32959492f4ffa96c2abc0263f80ad",
            "9fda81dc5a554fb5baabda53fce0aa75",
            "6981431850f549488939949058a2c6b1",
            "26497c180ecb4ab893a673265e929d04",
            "e2975f1d7bda4a74ad66ece14bb9bb6c",
            "ef23435f14a74d469ff07645743d9502",
            "35bc353df65748ceb430abb437c46e0d",
            "9f6762df79ee409d94fa0cd32d6c18a1",
            "0ecfb328e37847f3986a409c082f90b1",
            "b7a9955ed91c4579b04c25090eba2f48",
            "89e50cb08610425699d88719ad67e28f",
            "271a968fbdee4f28badadc421c4ab45a",
            "cb86a6cb204a480caa8e80dcc19cda90",
            "c3d789b75c084ce785863b217c4d8620",
            "4df5bc727f194267b7f752607c688c40",
            "ec603d2898b44e459e7fd99c782359e5",
            "ad51fc48f4944c309b536bdf23964b5e",
            "d526268e50d345738b6899aa222b4a74",
            "b189fb7a729740eca5648971a06846e5",
            "6f8e64af96db4e5c8ada6306e398d51f"
          ]
        },
        "id": "gX_tEYlZCkkE",
        "outputId": "75c6ada7-0fbc-4ecc-b282-ac46eda7c129"
      },
      "outputs": [
        {
          "data": {
            "application/vnd.jupyter.widget-view+json": {
              "model_id": "0f01e55a416c44c1825e57087b207fe2",
              "version_major": 2,
              "version_minor": 0
            },
            "text/plain": [
              "Downloading https://raw.githubusercontent.com/stanfordnlp/stanza-resources/main/resources_1.8.0.json:   0%|   …"
            ]
          },
          "metadata": {},
          "output_type": "display_data"
        },
        {
          "name": "stderr",
          "output_type": "stream",
          "text": [
            "INFO:stanza:Downloaded file to /root/stanza_resources/resources.json\n",
            "INFO:stanza:Downloading default packages for language: fa (Persian) ...\n",
            "INFO:stanza:File exists: /root/stanza_resources/fa/default.zip\n",
            "INFO:stanza:Finished downloading models and saved to /root/stanza_resources\n",
            "INFO:stanza:Checking for updates to resources.json in case models have been updated.  Note: this behavior can be turned off with download_method=None or download_method=DownloadMethod.REUSE_RESOURCES\n"
          ]
        },
        {
          "data": {
            "application/vnd.jupyter.widget-view+json": {
              "model_id": "b7a9955ed91c4579b04c25090eba2f48",
              "version_major": 2,
              "version_minor": 0
            },
            "text/plain": [
              "Downloading https://raw.githubusercontent.com/stanfordnlp/stanza-resources/main/resources_1.8.0.json:   0%|   …"
            ]
          },
          "metadata": {},
          "output_type": "display_data"
        },
        {
          "name": "stderr",
          "output_type": "stream",
          "text": [
            "INFO:stanza:Downloaded file to /root/stanza_resources/resources.json\n",
            "INFO:stanza:Loading these models for language: fa (Persian):\n",
            "==============================\n",
            "| Processor | Package        |\n",
            "------------------------------\n",
            "| tokenize  | perdt          |\n",
            "| mwt       | perdt          |\n",
            "| pos       | perdt_charlm   |\n",
            "| lemma     | perdt_nocharlm |\n",
            "| depparse  | perdt_charlm   |\n",
            "| ner       | arman          |\n",
            "==============================\n",
            "\n",
            "INFO:stanza:Using device: cpu\n",
            "INFO:stanza:Loading: tokenize\n",
            "INFO:stanza:Loading: mwt\n",
            "INFO:stanza:Loading: pos\n",
            "INFO:stanza:Loading: lemma\n",
            "INFO:stanza:Loading: depparse\n",
            "INFO:stanza:Loading: ner\n",
            "INFO:stanza:Done loading processors!\n"
          ]
        }
      ],
      "source": [
        "import stanza\n",
        "stanza.download('fa')       # This downloads the persian models for the neural pipeline\n",
        "nlp = stanza.Pipeline('fa') # This sets up a default neural pipeline in persian"
      ]
    },
    {
      "cell_type": "markdown",
      "metadata": {
        "id": "SforJUo74FRg"
      },
      "source": []
    },
    {
      "cell_type": "markdown",
      "metadata": {
        "id": "3hf0X84aHMm-"
      },
      "source": [
        "### detecting tokens and sentences"
      ]
    },
    {
      "cell_type": "code",
      "execution_count": 38,
      "metadata": {
        "id": "PLVzDaMnED2_"
      },
      "outputs": [],
      "source": [
        "doc = nlp(\"سلام من فریبا نفر هستم و این اولین کد منه!امیدوارم براتون مفید باشه.\")\n",
        "tokens_text = [token.text for sen in doc.sentences for token in sen.words]\n",
        "sentences_text = [sen.text for sen in doc.sentences]"
      ]
    },
    {
      "cell_type": "code",
      "execution_count": 39,
      "metadata": {
        "colab": {
          "base_uri": "https://localhost:8080/"
        },
        "id": "jwdri5jJEmRA",
        "outputId": "116cf1b3-ac2c-46cb-c753-5fb33c1160b6"
      },
      "outputs": [
        {
          "name": "stdout",
          "output_type": "stream",
          "text": [
            "tokens: ['سلام', 'من', 'فریبا', 'نفر', 'هستم', 'و', 'این', 'اولین', 'کد', 'منه!', 'امیدوار', 'م', 'براتون', 'مفید', 'باشه', '.']\n",
            "sentences: ['سلام من فریبا نفر هستم و این اولین کد منه!', 'امیدوارم براتون مفید باشه.']\n"
          ]
        }
      ],
      "source": [
        "print(\"tokens:\", tokens_text)\n",
        "print(\"sentences:\", sentences_text)"
      ]
    },
    {
      "cell_type": "code",
      "execution_count": 40,
      "metadata": {
        "id": "ex1MBqMnKkrW"
      },
      "outputs": [],
      "source": [
        "tokens = [token for sen in doc.sentences for token in sen.words]\n",
        "sentences = [sen for sen in doc.sentences]"
      ]
    },
    {
      "cell_type": "markdown",
      "metadata": {
        "id": "zu7drk-cL5-t"
      },
      "source": [
        "### Accessing Named Entities for Sentence and doc\n"
      ]
    },
    {
      "cell_type": "code",
      "execution_count": 41,
      "metadata": {
        "colab": {
          "base_uri": "https://localhost:8080/"
        },
        "id": "UNcjzZdYKz91",
        "outputId": "82c01f2c-c622-4b91-aa1b-03d2ee86c0d5"
      },
      "outputs": [
        {
          "data": {
            "text/plain": [
              "[{\n",
              "   \"text\": \"فریبا\",\n",
              "   \"type\": \"pers\",\n",
              "   \"start_char\": 8,\n",
              "   \"end_char\": 13\n",
              " }]"
            ]
          },
          "execution_count": 41,
          "metadata": {},
          "output_type": "execute_result"
        }
      ],
      "source": [
        "sentences[0].ents"
      ]
    },
    {
      "cell_type": "code",
      "execution_count": 50,
      "metadata": {
        "colab": {
          "base_uri": "https://localhost:8080/"
        },
        "id": "nqlqh5GaSwSQ",
        "outputId": "16ab1167-54cf-4d6f-c60a-21a17d06a85b"
      },
      "outputs": [
        {
          "data": {
            "text/plain": [
              "[{\n",
              "   \"text\": \"فریبا\",\n",
              "   \"type\": \"pers\",\n",
              "   \"start_char\": 8,\n",
              "   \"end_char\": 13\n",
              " }]"
            ]
          },
          "execution_count": 50,
          "metadata": {},
          "output_type": "execute_result"
        }
      ],
      "source": [
        "doc.ents"
      ]
    },
    {
      "cell_type": "markdown",
      "metadata": {
        "id": "mi7XMbwmS77T"
      },
      "source": [
        "### Lemmatization"
      ]
    },
    {
      "cell_type": "code",
      "execution_count": 47,
      "metadata": {
        "colab": {
          "base_uri": "https://localhost:8080/",
          "height": 35
        },
        "id": "JjnvVZhKOOtI",
        "outputId": "b46df48c-d5b9-49cb-dce1-75c25c4721df"
      },
      "outputs": [
        {
          "data": {
            "application/vnd.google.colaboratory.intrinsic+json": {
              "type": "string"
            },
            "text/plain": [
              "'هست'"
            ]
          },
          "execution_count": 47,
          "metadata": {},
          "output_type": "execute_result"
        }
      ],
      "source": [
        "tokens[4].lemma"
      ]
    },
    {
      "cell_type": "markdown",
      "metadata": {
        "id": "DjOJaJhkTFYe"
      },
      "source": [
        "### Features of token"
      ]
    },
    {
      "cell_type": "code",
      "execution_count": 48,
      "metadata": {
        "colab": {
          "base_uri": "https://localhost:8080/"
        },
        "id": "j7uMv2unOS7c",
        "outputId": "8f0d28af-ddf5-4208-e0a3-eb1109fa730e"
      },
      "outputs": [
        {
          "data": {
            "text/plain": [
              "{\n",
              "  \"id\": 5,\n",
              "  \"text\": \"هستم\",\n",
              "  \"lemma\": \"هست\",\n",
              "  \"upos\": \"VERB\",\n",
              "  \"xpos\": \"AUX\",\n",
              "  \"feats\": \"Number=Sing|Person=1\",\n",
              "  \"head\": 1,\n",
              "  \"deprel\": \"ccomp\",\n",
              "  \"start_char\": 18,\n",
              "  \"end_char\": 22\n",
              "}"
            ]
          },
          "execution_count": 48,
          "metadata": {},
          "output_type": "execute_result"
        }
      ],
      "source": [
        "tokens[4]"
      ]
    },
    {
      "cell_type": "markdown",
      "metadata": {
        "id": "ZvH3qwJM-pCb"
      },
      "source": [
        "# DadmaTools: A Python NLP Library for Persian"
      ]
    },
    {
      "cell_type": "markdown",
      "metadata": {
        "id": "ywf48ZpQ_BXC"
      },
      "source": [
        "Named Entity Recognition | Part of Speech Tagging | Dependency Parsing | Informal To Formal\n",
        "Constituency Parsing | Chunking | Kasreh Ezafe Detection\n",
        "Spellchecker | Normalizer | Tokenizer | Lemmatizer | Sentiment Analysis\n"
      ]
    },
    {
      "cell_type": "code",
      "execution_count": null,
      "metadata": {
        "id": "X2Oy6l9C-qmW"
      },
      "outputs": [],
      "source": [
        "!pip install dadmatools"
      ]
    },
    {
      "cell_type": "markdown",
      "metadata": {
        "id": "dtanyHXaBpbw"
      },
      "source": [
        "## Normalizer"
      ]
    },
    {
      "cell_type": "code",
      "execution_count": 2,
      "metadata": {
        "colab": {
          "base_uri": "https://localhost:8080/"
        },
        "id": "hcAmAYcj_YUL",
        "outputId": "4ac41df5-bbbb-40ce-ea3e-4cf0e0e5383f"
      },
      "outputs": [
        {
          "name": "stdout",
          "output_type": "stream",
          "text": [
            "costomize nomalization: <p> دادماتولز اولین نسخش سال 1400 منتشر شده. امیدواریم که این تولز بتونه کار با متن رو براتون شیرین‌تر و راحت‌تر کنه لطفا با ایمیل <EMAIL> با ما در ارتباط باشید آدرس گیت‌هاب هم که خب معرف حضور مبارک هست: </p>\n",
            "full cleaning nomalization: دادماتولز نسخش سال منتشر تولز بتونه کار متن براتون شیرین‌تر راحت‌تر کنه ایمیل ارتباط آدرس گیت‌هاب معرف حضور مبارک\n"
          ]
        }
      ],
      "source": [
        "from dadmatools.normalizer import Normalizer\n",
        "\n",
        "normalizer = Normalizer(\n",
        "    full_cleaning=False,\n",
        "    unify_chars=True,\n",
        "    refine_punc_spacing=True,\n",
        "    remove_extra_space=True,\n",
        "    remove_puncs=False,\n",
        "    remove_html=False,\n",
        "    remove_stop_word=False,\n",
        "    replace_email_with=\"<EMAIL>\",\n",
        "    replace_number_with=None,\n",
        "    replace_url_with=\"\",\n",
        "    replace_mobile_number_with=None,\n",
        "    replace_emoji_with=None,\n",
        "    replace_home_number_with=None\n",
        ")\n",
        "\n",
        "text = \"\"\"\n",
        "<p>\n",
        "دادماتولز اولین نسخش سال ۱۴۰۰ منتشر شده.\n",
        "امیدواریم که این تولز بتونه کار با متن رو براتون شیرین‌تر و راحت‌تر کنه\n",
        "لطفا با ایمیل dadmatools@dadmatech.ir با ما در ارتباط باشید\n",
        "آدرس گیت‌هاب هم که خب معرف حضور مبارک هست:\n",
        " https://github.com/Dadmatech/DadmaTools\n",
        "</p>\n",
        "\"\"\"\n",
        "normalized_text = normalizer.normalize(text)\n",
        "print(\"costomize nomalization:\" , normalized_text)\n",
        "# full cleaning\n",
        "normalizer = Normalizer(full_cleaning=True)\n",
        "normalized_text = normalizer.normalize(text)\n",
        "print(\"full cleaning nomalization:\" , normalized_text)"
      ]
    },
    {
      "cell_type": "markdown",
      "metadata": {
        "id": "-dLrOeK5CIoW"
      },
      "source": []
    },
    {
      "cell_type": "code",
      "execution_count": null,
      "metadata": {
        "id": "HXmT0tiUBmpb"
      },
      "outputs": [],
      "source": [
        "import dadmatools.pipeline.language as language\n",
        "\n",
        "# here lemmatizer and pos tagger will be loaded\n",
        "# as tokenizer is the default tool, it will be loaded as well even without calling\n",
        "pips = 'tok, lem, pos, dep, chunk, cons, spellchecker, kasreh, itf, ner, sent'\n",
        "nlp = language.Pipeline(pips)"
      ]
    },
    {
      "cell_type": "code",
      "execution_count": 17,
      "metadata": {
        "colab": {
          "base_uri": "https://localhost:8080/"
        },
        "id": "4QugJWRIFBms",
        "outputId": "c9d4ac52-677a-4043-84c0-e07d055e02ce"
      },
      "outputs": [
        {
          "name": "stderr",
          "output_type": "stream",
          "text": [
            "1it [00:00,  4.67it/s]\n"
          ]
        }
      ],
      "source": [
        "# doc is an SpaCy object\n",
        "doc = nlp('سلام من فریبا نفر هستم و این اولین کد منه!امیدوارم براتون مفید باشهه')"
      ]
    },
    {
      "cell_type": "code",
      "execution_count": 18,
      "metadata": {
        "id": "CbOFbvAHDcvz"
      },
      "outputs": [],
      "source": [
        "tokens = [token for sen in doc['sentences'] for token in sen['tokens']]"
      ]
    },
    {
      "cell_type": "code",
      "execution_count": 20,
      "metadata": {
        "colab": {
          "base_uri": "https://localhost:8080/"
        },
        "id": "8SiSOPOYEIqt",
        "outputId": "3750062b-52cb-43d9-86b0-e13e21c99527"
      },
      "outputs": [
        {
          "data": {
            "text/plain": [
              "{'id': 5,\n",
              " 'text': 'هستم',\n",
              " 'upos': 'AUX',\n",
              " 'xpos': 'V_PRS',\n",
              " 'feats': 'Number=Sing|Person=1|Tense=Pres',\n",
              " 'head': 3,\n",
              " 'deprel': 'cop',\n",
              " 'lemma': 'هست',\n",
              " 'ner': 'O',\n",
              " 'kasreh': 'O'}"
            ]
          },
          "execution_count": 20,
          "metadata": {},
          "output_type": "execute_result"
        }
      ],
      "source": [
        "tokens[4]"
      ]
    },
    {
      "cell_type": "markdown",
      "metadata": {
        "id": "QF6x4h1dMoyr"
      },
      "source": [
        "## Word embedding with fasttext, glove, word2vec"
      ]
    },
    {
      "cell_type": "code",
      "execution_count": 22,
      "metadata": {
        "id": "uQxC9eNNEKDb"
      },
      "outputs": [],
      "source": [
        "from dadmatools.embeddings import get_embedding, get_all_embeddings_info, get_embedding_info\n",
        "from pprint import pprint\n",
        "\n",
        "#### load embedding ####\n",
        "word_embedding = get_embedding('glove-wiki')\n"
      ]
    },
    {
      "cell_type": "code",
      "execution_count": 25,
      "metadata": {
        "colab": {
          "base_uri": "https://localhost:8080/"
        },
        "id": "1XOgCf38NIUV",
        "outputId": "c7ef2cab-4d37-4e93-c95a-7d6031624f99"
      },
      "outputs": [
        {
          "name": "stdout",
          "output_type": "stream",
          "text": [
            "dimention of vectors: 50\n",
            "vocabulary size: 240548\n",
            "[('تابستان', 0.9611946940422058), ('پاییز', 0.865199625492096), ('بهار', 0.8493462800979614), ('سرد', 0.8197917938232422), ('هوای', 0.7853583097457886), ('روزهای', 0.7834357619285583), ('فصول', 0.7756936550140381), ('برف', 0.7650289535522461), ('باران', 0.7549418210983276), ('خشک', 0.7512510418891907)]\n",
            "0.77167135\n",
            "[ 4.3834025e-01 -3.1859803e-01 -1.9272313e+00 -8.5763007e-02\n",
            "  2.9289627e-01  5.6910348e-01 -7.1155220e-01 -1.1371025e-01\n",
            "  2.2091776e-01 -1.1764800e-01  1.9504672e-01  2.8748301e-01\n",
            " -7.1474272e-01 -2.1440999e-01  4.8238149e-01 -4.3609923e-01\n",
            "  9.2353255e-02 -6.6413760e-02  2.5924450e-01 -7.0753738e-02\n",
            " -5.1785523e-01 -2.1039526e-01  2.6589626e-01  8.0122501e-02\n",
            "  3.9807302e-01  7.7017081e-01 -8.2785249e-02  5.6122452e-01\n",
            " -2.4727201e-01  2.4349928e-01  7.2026926e-01  7.5088227e-01\n",
            " -2.2402122e+00 -2.6327750e-01 -3.3325753e-01  9.6817985e-02\n",
            "  2.9644626e-01  7.3354429e-01 -2.0648825e-01 -3.5078496e-02\n",
            " -8.3022952e-02  2.9674774e-01 -1.1973262e-02 -4.6365476e-01\n",
            " -5.7425536e-04 -1.8509251e-01  2.9821673e-01  3.4040248e-01\n",
            "  6.2893951e-01  3.3852530e-01]\n"
          ]
        }
      ],
      "source": [
        "#get vector of the word\n",
        "print('dimention of vectors:',len(word_embedding['سلام']))\n",
        "#vocab\n",
        "vocab = word_embedding.get_vocab()\n",
        "print('vocabulary size:',len(vocab))\n",
        "\n",
        "### some useful functions ###\n",
        "print(word_embedding.top_nearest(\"زمستان\", 10))\n",
        "print(word_embedding.similarity('کتب', 'کتاب'))\n",
        "print(word_embedding.embedding_text('امروز هوای خوبی بود'))\n"
      ]
    },
    {
      "cell_type": "markdown",
      "metadata": {
        "id": "rcQM6eXz_LVY"
      },
      "source": [
        "# hazm"
      ]
    },
    {
      "cell_type": "markdown",
      "metadata": {
        "id": "gPO-MTiu_t0-"
      },
      "source": [
        "Hazm is a python library to perform natural language processing tasks on Persian text. It offers various features for analyzing, processing, and understanding Persian text. You can use Hazm to normalize text, tokenize sentences and words, lemmatize words, assign part-of-speech tags, identify dependency relations, create word and sentence embeddings, or read popular |Persian corpora."
      ]
    },
    {
      "cell_type": "code",
      "execution_count": null,
      "metadata": {
        "id": "cXxdWk-m_Mzj"
      },
      "outputs": [],
      "source": [
        "!pip install hazm"
      ]
    },
    {
      "cell_type": "markdown",
      "metadata": {
        "id": "9JHmGn4vB4zV"
      },
      "source": [
        "In this class, we use the Hazm and re libraries for data preprocessing. Our preprocessing steps include removing punctuation, diacritics, repeated characters, and stopwords."
      ]
    },
    {
      "cell_type": "code",
      "execution_count": null,
      "metadata": {
        "id": "XP4KGztn_9qy"
      },
      "outputs": [],
      "source": [
        "import hazm\n",
        "import string\n",
        "import re\n",
        "import pandas as pd\n",
        "\n",
        "\n",
        "class preprocessing:\n",
        "  def __init__(self):\n",
        "    persian_punctuations = '''`÷×؛<>_()*&^%][ـ،/:\"؟.,'{}~¦+|!”…“–ـ'''\n",
        "    self.punctuations_list = string.punctuation + persian_punctuations\n",
        "    self.arabic_diacritics = re.compile(\"\"\"\n",
        "                             ّ    | # Tashdid\n",
        "                             َ    | # Fatha\n",
        "                             ً    | # Tanwin Fath\n",
        "                             ُ    | # Damma\n",
        "                             ٌ    | # Tanwin Damm\n",
        "                             ِ    | # Kasra\n",
        "                             ٍ    | # Tanwin Kasr\n",
        "                             ْ    | # Sukun\n",
        "                             ـ     # Tatwil/Kashida\n",
        "                         \"\"\", re.VERBOSE)\n",
        "    self.stop_words = hazm.stopwords_list()\n",
        "    self.lemmatizer = hazm.Lemmatizer()\n",
        "\n",
        "  def fit(self, train_data):\n",
        "    train_data['Text'] = train_data['Text'].apply(self._remove_diacritics)\n",
        "    train_data['Text'] = train_data['Text'].apply(self._remove_punctuations)\n",
        "    train_data['Text'] = train_data['Text'].apply(self._remove_repeating_char)\n",
        "    train_data['Text'] = train_data['Text'].apply(self._normalize_persian)\n",
        "    train_data['Text'] = train_data['Text'].apply(self._tokenize)\n",
        "    train_data['Text'] = train_data['Text'].apply(self._remove_stopwords)\n",
        "    train_data['Text'] = train_data['Text'].apply(self._lemmatizer)\n",
        "    return train_data\n",
        "\n",
        "\n",
        "  def _remove_diacritics(self, text):\n",
        "    text = re.sub(self.arabic_diacritics, '', text)\n",
        "    return text\n",
        "\n",
        "  def _remove_punctuations(self, text):\n",
        "    translator = str.maketrans('', '', self.punctuations_list)\n",
        "    return text.translate(translator)\n",
        "\n",
        "  def _remove_repeating_char(self, text):\n",
        "    return re.sub(r'(.)\\1+', r'\\1', text)\n",
        "\n",
        "\n",
        "  def _normalize_persian(self, text):\n",
        "    text = re.sub(\"[إأآا]\", \"ا\", text)\n",
        "    text = re.sub(\"ي\", \"ی\", text)\n",
        "    text = re.sub(\"ؤ\", \"و\", text)\n",
        "    text = re.sub(\"ئ\", \"ی\", text)\n",
        "    text = re.sub(\"ة\", \"ه\", text)\n",
        "    text = re.sub(\"ك\" ,\"ک\" , text)\n",
        "    text = re.sub(\"[^ابپتثجچحخدذرزژسشصضطظعغفقکگلمنوهی]\", \" \", text)\n",
        "    text = re.sub(\"[^\\S\\n\\t]+\", ' ', text)\n",
        "    return text\n",
        "\n",
        "\n",
        "  def _tokenize(self, text):\n",
        "    return text.split()\n",
        "\n",
        "  def _remove_stopwords(self, words):\n",
        "    return [word  for word in words if word not in self.stop_words]\n",
        "\n",
        "  def _lemmatizer(self, words):\n",
        "    result = set()\n",
        "    for token in words:\n",
        "      result.add(self.lemmatizer.lemmatize(token))\n",
        "    return list(result)"
      ]
    }
  ],
  "metadata": {
    "colab": {
      "provenance": []
    },
    "kernelspec": {
      "display_name": "Python 3",
      "name": "python3"
    },
    "language_info": {
      "name": "python"
    },
    "widgets": {
      "application/vnd.jupyter.widget-state+json": {
        "0ecfb328e37847f3986a409c082f90b1": {
          "model_module": "@jupyter-widgets/controls",
          "model_module_version": "1.5.0",
          "model_name": "DescriptionStyleModel",
          "state": {
            "_model_module": "@jupyter-widgets/controls",
            "_model_module_version": "1.5.0",
            "_model_name": "DescriptionStyleModel",
            "_view_count": null,
            "_view_module": "@jupyter-widgets/base",
            "_view_module_version": "1.2.0",
            "_view_name": "StyleView",
            "description_width": ""
          }
        },
        "0f01e55a416c44c1825e57087b207fe2": {
          "model_module": "@jupyter-widgets/controls",
          "model_module_version": "1.5.0",
          "model_name": "HBoxModel",
          "state": {
            "_dom_classes": [],
            "_model_module": "@jupyter-widgets/controls",
            "_model_module_version": "1.5.0",
            "_model_name": "HBoxModel",
            "_view_count": null,
            "_view_module": "@jupyter-widgets/controls",
            "_view_module_version": "1.5.0",
            "_view_name": "HBoxView",
            "box_style": "",
            "children": [
              "IPY_MODEL_623e5f90bdba4665b4d3defa774c135d",
              "IPY_MODEL_84f32959492f4ffa96c2abc0263f80ad",
              "IPY_MODEL_9fda81dc5a554fb5baabda53fce0aa75"
            ],
            "layout": "IPY_MODEL_6981431850f549488939949058a2c6b1"
          }
        },
        "26497c180ecb4ab893a673265e929d04": {
          "model_module": "@jupyter-widgets/base",
          "model_module_version": "1.2.0",
          "model_name": "LayoutModel",
          "state": {
            "_model_module": "@jupyter-widgets/base",
            "_model_module_version": "1.2.0",
            "_model_name": "LayoutModel",
            "_view_count": null,
            "_view_module": "@jupyter-widgets/base",
            "_view_module_version": "1.2.0",
            "_view_name": "LayoutView",
            "align_content": null,
            "align_items": null,
            "align_self": null,
            "border": null,
            "bottom": null,
            "display": null,
            "flex": null,
            "flex_flow": null,
            "grid_area": null,
            "grid_auto_columns": null,
            "grid_auto_flow": null,
            "grid_auto_rows": null,
            "grid_column": null,
            "grid_gap": null,
            "grid_row": null,
            "grid_template_areas": null,
            "grid_template_columns": null,
            "grid_template_rows": null,
            "height": null,
            "justify_content": null,
            "justify_items": null,
            "left": null,
            "margin": null,
            "max_height": null,
            "max_width": null,
            "min_height": null,
            "min_width": null,
            "object_fit": null,
            "object_position": null,
            "order": null,
            "overflow": null,
            "overflow_x": null,
            "overflow_y": null,
            "padding": null,
            "right": null,
            "top": null,
            "visibility": null,
            "width": null
          }
        },
        "271a968fbdee4f28badadc421c4ab45a": {
          "model_module": "@jupyter-widgets/controls",
          "model_module_version": "1.5.0",
          "model_name": "FloatProgressModel",
          "state": {
            "_dom_classes": [],
            "_model_module": "@jupyter-widgets/controls",
            "_model_module_version": "1.5.0",
            "_model_name": "FloatProgressModel",
            "_view_count": null,
            "_view_module": "@jupyter-widgets/controls",
            "_view_module_version": "1.5.0",
            "_view_name": "ProgressView",
            "bar_style": "success",
            "description": "",
            "description_tooltip": null,
            "layout": "IPY_MODEL_ad51fc48f4944c309b536bdf23964b5e",
            "max": 47693,
            "min": 0,
            "orientation": "horizontal",
            "style": "IPY_MODEL_d526268e50d345738b6899aa222b4a74",
            "value": 47693
          }
        },
        "35bc353df65748ceb430abb437c46e0d": {
          "model_module": "@jupyter-widgets/controls",
          "model_module_version": "1.5.0",
          "model_name": "ProgressStyleModel",
          "state": {
            "_model_module": "@jupyter-widgets/controls",
            "_model_module_version": "1.5.0",
            "_model_name": "ProgressStyleModel",
            "_view_count": null,
            "_view_module": "@jupyter-widgets/base",
            "_view_module_version": "1.2.0",
            "_view_name": "StyleView",
            "bar_color": null,
            "description_width": ""
          }
        },
        "4df5bc727f194267b7f752607c688c40": {
          "model_module": "@jupyter-widgets/base",
          "model_module_version": "1.2.0",
          "model_name": "LayoutModel",
          "state": {
            "_model_module": "@jupyter-widgets/base",
            "_model_module_version": "1.2.0",
            "_model_name": "LayoutModel",
            "_view_count": null,
            "_view_module": "@jupyter-widgets/base",
            "_view_module_version": "1.2.0",
            "_view_name": "LayoutView",
            "align_content": null,
            "align_items": null,
            "align_self": null,
            "border": null,
            "bottom": null,
            "display": null,
            "flex": null,
            "flex_flow": null,
            "grid_area": null,
            "grid_auto_columns": null,
            "grid_auto_flow": null,
            "grid_auto_rows": null,
            "grid_column": null,
            "grid_gap": null,
            "grid_row": null,
            "grid_template_areas": null,
            "grid_template_columns": null,
            "grid_template_rows": null,
            "height": null,
            "justify_content": null,
            "justify_items": null,
            "left": null,
            "margin": null,
            "max_height": null,
            "max_width": null,
            "min_height": null,
            "min_width": null,
            "object_fit": null,
            "object_position": null,
            "order": null,
            "overflow": null,
            "overflow_x": null,
            "overflow_y": null,
            "padding": null,
            "right": null,
            "top": null,
            "visibility": null,
            "width": null
          }
        },
        "623e5f90bdba4665b4d3defa774c135d": {
          "model_module": "@jupyter-widgets/controls",
          "model_module_version": "1.5.0",
          "model_name": "HTMLModel",
          "state": {
            "_dom_classes": [],
            "_model_module": "@jupyter-widgets/controls",
            "_model_module_version": "1.5.0",
            "_model_name": "HTMLModel",
            "_view_count": null,
            "_view_module": "@jupyter-widgets/controls",
            "_view_module_version": "1.5.0",
            "_view_name": "HTMLView",
            "description": "",
            "description_tooltip": null,
            "layout": "IPY_MODEL_26497c180ecb4ab893a673265e929d04",
            "placeholder": "​",
            "style": "IPY_MODEL_e2975f1d7bda4a74ad66ece14bb9bb6c",
            "value": "Downloading https://raw.githubusercontent.com/stanfordnlp/stanza-resources/main/resources_1.8.0.json: "
          }
        },
        "6981431850f549488939949058a2c6b1": {
          "model_module": "@jupyter-widgets/base",
          "model_module_version": "1.2.0",
          "model_name": "LayoutModel",
          "state": {
            "_model_module": "@jupyter-widgets/base",
            "_model_module_version": "1.2.0",
            "_model_name": "LayoutModel",
            "_view_count": null,
            "_view_module": "@jupyter-widgets/base",
            "_view_module_version": "1.2.0",
            "_view_name": "LayoutView",
            "align_content": null,
            "align_items": null,
            "align_self": null,
            "border": null,
            "bottom": null,
            "display": null,
            "flex": null,
            "flex_flow": null,
            "grid_area": null,
            "grid_auto_columns": null,
            "grid_auto_flow": null,
            "grid_auto_rows": null,
            "grid_column": null,
            "grid_gap": null,
            "grid_row": null,
            "grid_template_areas": null,
            "grid_template_columns": null,
            "grid_template_rows": null,
            "height": null,
            "justify_content": null,
            "justify_items": null,
            "left": null,
            "margin": null,
            "max_height": null,
            "max_width": null,
            "min_height": null,
            "min_width": null,
            "object_fit": null,
            "object_position": null,
            "order": null,
            "overflow": null,
            "overflow_x": null,
            "overflow_y": null,
            "padding": null,
            "right": null,
            "top": null,
            "visibility": null,
            "width": null
          }
        },
        "6f8e64af96db4e5c8ada6306e398d51f": {
          "model_module": "@jupyter-widgets/controls",
          "model_module_version": "1.5.0",
          "model_name": "DescriptionStyleModel",
          "state": {
            "_model_module": "@jupyter-widgets/controls",
            "_model_module_version": "1.5.0",
            "_model_name": "DescriptionStyleModel",
            "_view_count": null,
            "_view_module": "@jupyter-widgets/base",
            "_view_module_version": "1.2.0",
            "_view_name": "StyleView",
            "description_width": ""
          }
        },
        "84f32959492f4ffa96c2abc0263f80ad": {
          "model_module": "@jupyter-widgets/controls",
          "model_module_version": "1.5.0",
          "model_name": "FloatProgressModel",
          "state": {
            "_dom_classes": [],
            "_model_module": "@jupyter-widgets/controls",
            "_model_module_version": "1.5.0",
            "_model_name": "FloatProgressModel",
            "_view_count": null,
            "_view_module": "@jupyter-widgets/controls",
            "_view_module_version": "1.5.0",
            "_view_name": "ProgressView",
            "bar_style": "success",
            "description": "",
            "description_tooltip": null,
            "layout": "IPY_MODEL_ef23435f14a74d469ff07645743d9502",
            "max": 47693,
            "min": 0,
            "orientation": "horizontal",
            "style": "IPY_MODEL_35bc353df65748ceb430abb437c46e0d",
            "value": 47693
          }
        },
        "89e50cb08610425699d88719ad67e28f": {
          "model_module": "@jupyter-widgets/controls",
          "model_module_version": "1.5.0",
          "model_name": "HTMLModel",
          "state": {
            "_dom_classes": [],
            "_model_module": "@jupyter-widgets/controls",
            "_model_module_version": "1.5.0",
            "_model_name": "HTMLModel",
            "_view_count": null,
            "_view_module": "@jupyter-widgets/controls",
            "_view_module_version": "1.5.0",
            "_view_name": "HTMLView",
            "description": "",
            "description_tooltip": null,
            "layout": "IPY_MODEL_4df5bc727f194267b7f752607c688c40",
            "placeholder": "​",
            "style": "IPY_MODEL_ec603d2898b44e459e7fd99c782359e5",
            "value": "Downloading https://raw.githubusercontent.com/stanfordnlp/stanza-resources/main/resources_1.8.0.json: "
          }
        },
        "9f6762df79ee409d94fa0cd32d6c18a1": {
          "model_module": "@jupyter-widgets/base",
          "model_module_version": "1.2.0",
          "model_name": "LayoutModel",
          "state": {
            "_model_module": "@jupyter-widgets/base",
            "_model_module_version": "1.2.0",
            "_model_name": "LayoutModel",
            "_view_count": null,
            "_view_module": "@jupyter-widgets/base",
            "_view_module_version": "1.2.0",
            "_view_name": "LayoutView",
            "align_content": null,
            "align_items": null,
            "align_self": null,
            "border": null,
            "bottom": null,
            "display": null,
            "flex": null,
            "flex_flow": null,
            "grid_area": null,
            "grid_auto_columns": null,
            "grid_auto_flow": null,
            "grid_auto_rows": null,
            "grid_column": null,
            "grid_gap": null,
            "grid_row": null,
            "grid_template_areas": null,
            "grid_template_columns": null,
            "grid_template_rows": null,
            "height": null,
            "justify_content": null,
            "justify_items": null,
            "left": null,
            "margin": null,
            "max_height": null,
            "max_width": null,
            "min_height": null,
            "min_width": null,
            "object_fit": null,
            "object_position": null,
            "order": null,
            "overflow": null,
            "overflow_x": null,
            "overflow_y": null,
            "padding": null,
            "right": null,
            "top": null,
            "visibility": null,
            "width": null
          }
        },
        "9fda81dc5a554fb5baabda53fce0aa75": {
          "model_module": "@jupyter-widgets/controls",
          "model_module_version": "1.5.0",
          "model_name": "HTMLModel",
          "state": {
            "_dom_classes": [],
            "_model_module": "@jupyter-widgets/controls",
            "_model_module_version": "1.5.0",
            "_model_name": "HTMLModel",
            "_view_count": null,
            "_view_module": "@jupyter-widgets/controls",
            "_view_module_version": "1.5.0",
            "_view_name": "HTMLView",
            "description": "",
            "description_tooltip": null,
            "layout": "IPY_MODEL_9f6762df79ee409d94fa0cd32d6c18a1",
            "placeholder": "​",
            "style": "IPY_MODEL_0ecfb328e37847f3986a409c082f90b1",
            "value": " 384k/? [00:00&lt;00:00, 16.1MB/s]"
          }
        },
        "ad51fc48f4944c309b536bdf23964b5e": {
          "model_module": "@jupyter-widgets/base",
          "model_module_version": "1.2.0",
          "model_name": "LayoutModel",
          "state": {
            "_model_module": "@jupyter-widgets/base",
            "_model_module_version": "1.2.0",
            "_model_name": "LayoutModel",
            "_view_count": null,
            "_view_module": "@jupyter-widgets/base",
            "_view_module_version": "1.2.0",
            "_view_name": "LayoutView",
            "align_content": null,
            "align_items": null,
            "align_self": null,
            "border": null,
            "bottom": null,
            "display": null,
            "flex": null,
            "flex_flow": null,
            "grid_area": null,
            "grid_auto_columns": null,
            "grid_auto_flow": null,
            "grid_auto_rows": null,
            "grid_column": null,
            "grid_gap": null,
            "grid_row": null,
            "grid_template_areas": null,
            "grid_template_columns": null,
            "grid_template_rows": null,
            "height": null,
            "justify_content": null,
            "justify_items": null,
            "left": null,
            "margin": null,
            "max_height": null,
            "max_width": null,
            "min_height": null,
            "min_width": null,
            "object_fit": null,
            "object_position": null,
            "order": null,
            "overflow": null,
            "overflow_x": null,
            "overflow_y": null,
            "padding": null,
            "right": null,
            "top": null,
            "visibility": null,
            "width": null
          }
        },
        "b189fb7a729740eca5648971a06846e5": {
          "model_module": "@jupyter-widgets/base",
          "model_module_version": "1.2.0",
          "model_name": "LayoutModel",
          "state": {
            "_model_module": "@jupyter-widgets/base",
            "_model_module_version": "1.2.0",
            "_model_name": "LayoutModel",
            "_view_count": null,
            "_view_module": "@jupyter-widgets/base",
            "_view_module_version": "1.2.0",
            "_view_name": "LayoutView",
            "align_content": null,
            "align_items": null,
            "align_self": null,
            "border": null,
            "bottom": null,
            "display": null,
            "flex": null,
            "flex_flow": null,
            "grid_area": null,
            "grid_auto_columns": null,
            "grid_auto_flow": null,
            "grid_auto_rows": null,
            "grid_column": null,
            "grid_gap": null,
            "grid_row": null,
            "grid_template_areas": null,
            "grid_template_columns": null,
            "grid_template_rows": null,
            "height": null,
            "justify_content": null,
            "justify_items": null,
            "left": null,
            "margin": null,
            "max_height": null,
            "max_width": null,
            "min_height": null,
            "min_width": null,
            "object_fit": null,
            "object_position": null,
            "order": null,
            "overflow": null,
            "overflow_x": null,
            "overflow_y": null,
            "padding": null,
            "right": null,
            "top": null,
            "visibility": null,
            "width": null
          }
        },
        "b7a9955ed91c4579b04c25090eba2f48": {
          "model_module": "@jupyter-widgets/controls",
          "model_module_version": "1.5.0",
          "model_name": "HBoxModel",
          "state": {
            "_dom_classes": [],
            "_model_module": "@jupyter-widgets/controls",
            "_model_module_version": "1.5.0",
            "_model_name": "HBoxModel",
            "_view_count": null,
            "_view_module": "@jupyter-widgets/controls",
            "_view_module_version": "1.5.0",
            "_view_name": "HBoxView",
            "box_style": "",
            "children": [
              "IPY_MODEL_89e50cb08610425699d88719ad67e28f",
              "IPY_MODEL_271a968fbdee4f28badadc421c4ab45a",
              "IPY_MODEL_cb86a6cb204a480caa8e80dcc19cda90"
            ],
            "layout": "IPY_MODEL_c3d789b75c084ce785863b217c4d8620"
          }
        },
        "c3d789b75c084ce785863b217c4d8620": {
          "model_module": "@jupyter-widgets/base",
          "model_module_version": "1.2.0",
          "model_name": "LayoutModel",
          "state": {
            "_model_module": "@jupyter-widgets/base",
            "_model_module_version": "1.2.0",
            "_model_name": "LayoutModel",
            "_view_count": null,
            "_view_module": "@jupyter-widgets/base",
            "_view_module_version": "1.2.0",
            "_view_name": "LayoutView",
            "align_content": null,
            "align_items": null,
            "align_self": null,
            "border": null,
            "bottom": null,
            "display": null,
            "flex": null,
            "flex_flow": null,
            "grid_area": null,
            "grid_auto_columns": null,
            "grid_auto_flow": null,
            "grid_auto_rows": null,
            "grid_column": null,
            "grid_gap": null,
            "grid_row": null,
            "grid_template_areas": null,
            "grid_template_columns": null,
            "grid_template_rows": null,
            "height": null,
            "justify_content": null,
            "justify_items": null,
            "left": null,
            "margin": null,
            "max_height": null,
            "max_width": null,
            "min_height": null,
            "min_width": null,
            "object_fit": null,
            "object_position": null,
            "order": null,
            "overflow": null,
            "overflow_x": null,
            "overflow_y": null,
            "padding": null,
            "right": null,
            "top": null,
            "visibility": null,
            "width": null
          }
        },
        "cb86a6cb204a480caa8e80dcc19cda90": {
          "model_module": "@jupyter-widgets/controls",
          "model_module_version": "1.5.0",
          "model_name": "HTMLModel",
          "state": {
            "_dom_classes": [],
            "_model_module": "@jupyter-widgets/controls",
            "_model_module_version": "1.5.0",
            "_model_name": "HTMLModel",
            "_view_count": null,
            "_view_module": "@jupyter-widgets/controls",
            "_view_module_version": "1.5.0",
            "_view_name": "HTMLView",
            "description": "",
            "description_tooltip": null,
            "layout": "IPY_MODEL_b189fb7a729740eca5648971a06846e5",
            "placeholder": "​",
            "style": "IPY_MODEL_6f8e64af96db4e5c8ada6306e398d51f",
            "value": " 384k/? [00:00&lt;00:00, 11.6MB/s]"
          }
        },
        "d526268e50d345738b6899aa222b4a74": {
          "model_module": "@jupyter-widgets/controls",
          "model_module_version": "1.5.0",
          "model_name": "ProgressStyleModel",
          "state": {
            "_model_module": "@jupyter-widgets/controls",
            "_model_module_version": "1.5.0",
            "_model_name": "ProgressStyleModel",
            "_view_count": null,
            "_view_module": "@jupyter-widgets/base",
            "_view_module_version": "1.2.0",
            "_view_name": "StyleView",
            "bar_color": null,
            "description_width": ""
          }
        },
        "e2975f1d7bda4a74ad66ece14bb9bb6c": {
          "model_module": "@jupyter-widgets/controls",
          "model_module_version": "1.5.0",
          "model_name": "DescriptionStyleModel",
          "state": {
            "_model_module": "@jupyter-widgets/controls",
            "_model_module_version": "1.5.0",
            "_model_name": "DescriptionStyleModel",
            "_view_count": null,
            "_view_module": "@jupyter-widgets/base",
            "_view_module_version": "1.2.0",
            "_view_name": "StyleView",
            "description_width": ""
          }
        },
        "ec603d2898b44e459e7fd99c782359e5": {
          "model_module": "@jupyter-widgets/controls",
          "model_module_version": "1.5.0",
          "model_name": "DescriptionStyleModel",
          "state": {
            "_model_module": "@jupyter-widgets/controls",
            "_model_module_version": "1.5.0",
            "_model_name": "DescriptionStyleModel",
            "_view_count": null,
            "_view_module": "@jupyter-widgets/base",
            "_view_module_version": "1.2.0",
            "_view_name": "StyleView",
            "description_width": ""
          }
        },
        "ef23435f14a74d469ff07645743d9502": {
          "model_module": "@jupyter-widgets/base",
          "model_module_version": "1.2.0",
          "model_name": "LayoutModel",
          "state": {
            "_model_module": "@jupyter-widgets/base",
            "_model_module_version": "1.2.0",
            "_model_name": "LayoutModel",
            "_view_count": null,
            "_view_module": "@jupyter-widgets/base",
            "_view_module_version": "1.2.0",
            "_view_name": "LayoutView",
            "align_content": null,
            "align_items": null,
            "align_self": null,
            "border": null,
            "bottom": null,
            "display": null,
            "flex": null,
            "flex_flow": null,
            "grid_area": null,
            "grid_auto_columns": null,
            "grid_auto_flow": null,
            "grid_auto_rows": null,
            "grid_column": null,
            "grid_gap": null,
            "grid_row": null,
            "grid_template_areas": null,
            "grid_template_columns": null,
            "grid_template_rows": null,
            "height": null,
            "justify_content": null,
            "justify_items": null,
            "left": null,
            "margin": null,
            "max_height": null,
            "max_width": null,
            "min_height": null,
            "min_width": null,
            "object_fit": null,
            "object_position": null,
            "order": null,
            "overflow": null,
            "overflow_x": null,
            "overflow_y": null,
            "padding": null,
            "right": null,
            "top": null,
            "visibility": null,
            "width": null
          }
        }
      }
    }
  },
  "nbformat": 4,
  "nbformat_minor": 0
}
